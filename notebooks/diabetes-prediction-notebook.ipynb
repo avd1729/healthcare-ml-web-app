{
 "cells": [
  {
   "cell_type": "markdown",
   "id": "fc759d91",
   "metadata": {
    "papermill": {
     "duration": 0.008536,
     "end_time": "2025-10-08T14:04:00.785809",
     "exception": false,
     "start_time": "2025-10-08T14:04:00.777273",
     "status": "completed"
    },
    "tags": []
   },
   "source": [
    "# **Importing the modules**"
   ]
  },
  {
   "cell_type": "code",
   "execution_count": 1,
   "id": "fca69def",
   "metadata": {
    "_cell_guid": "b1076dfc-b9ad-4769-8c92-a6c4dae69d19",
    "_uuid": "8f2839f25d086af736a60e9eeb907d3b93b6e0e5",
    "execution": {
     "iopub.execute_input": "2025-10-08T14:04:00.803646Z",
     "iopub.status.busy": "2025-10-08T14:04:00.803220Z",
     "iopub.status.idle": "2025-10-08T14:04:08.037055Z",
     "shell.execute_reply": "2025-10-08T14:04:08.035914Z"
    },
    "papermill": {
     "duration": 7.244795,
     "end_time": "2025-10-08T14:04:08.038985",
     "exception": false,
     "start_time": "2025-10-08T14:04:00.794190",
     "status": "completed"
    },
    "tags": []
   },
   "outputs": [],
   "source": [
    "import numpy as np\n",
    "import pandas as pd\n",
    "import seaborn as sns\n",
    "import matplotlib.pyplot as plt\n",
    "import statsmodels.api as sm\n",
    "from sklearn.preprocessing import LabelEncoder\n",
    "from sklearn.model_selection import train_test_split\n",
    "from sklearn.linear_model import LogisticRegression\n",
    "from sklearn.metrics import accuracy_score, precision_score, recall_score, f1_score, confusion_matrix, classification_report\n",
    "import pickle\n",
    "\n",
    "import warnings\n",
    "warnings.filterwarnings(\"ignore\")"
   ]
  },
  {
   "cell_type": "markdown",
   "id": "921c274c",
   "metadata": {
    "papermill": {
     "duration": 0.006007,
     "end_time": "2025-10-08T14:04:08.051880",
     "exception": false,
     "start_time": "2025-10-08T14:04:08.045873",
     "status": "completed"
    },
    "tags": []
   },
   "source": [
    "# **Exploratory Data Analysis**"
   ]
  },
  {
   "cell_type": "code",
   "execution_count": 2,
   "id": "58e4a337",
   "metadata": {
    "execution": {
     "iopub.execute_input": "2025-10-08T14:04:08.066458Z",
     "iopub.status.busy": "2025-10-08T14:04:08.065937Z",
     "iopub.status.idle": "2025-10-08T14:04:08.261290Z",
     "shell.execute_reply": "2025-10-08T14:04:08.260159Z"
    },
    "papermill": {
     "duration": 0.20473,
     "end_time": "2025-10-08T14:04:08.263152",
     "exception": false,
     "start_time": "2025-10-08T14:04:08.058422",
     "status": "completed"
    },
    "tags": []
   },
   "outputs": [],
   "source": [
    "data = pd.read_csv(\"/kaggle/input/diabetes-prediction-dataset/diabetes_prediction_dataset.csv\")"
   ]
  },
  {
   "cell_type": "code",
   "execution_count": 3,
   "id": "5900c3e5",
   "metadata": {
    "execution": {
     "iopub.execute_input": "2025-10-08T14:04:08.278122Z",
     "iopub.status.busy": "2025-10-08T14:04:08.277718Z",
     "iopub.status.idle": "2025-10-08T14:04:08.322926Z",
     "shell.execute_reply": "2025-10-08T14:04:08.321728Z"
    },
    "papermill": {
     "duration": 0.055259,
     "end_time": "2025-10-08T14:04:08.325110",
     "exception": false,
     "start_time": "2025-10-08T14:04:08.269851",
     "status": "completed"
    },
    "tags": []
   },
   "outputs": [
    {
     "name": "stdout",
     "output_type": "stream",
     "text": [
      "<class 'pandas.core.frame.DataFrame'>\n",
      "RangeIndex: 100000 entries, 0 to 99999\n",
      "Data columns (total 9 columns):\n",
      " #   Column               Non-Null Count   Dtype  \n",
      "---  ------               --------------   -----  \n",
      " 0   gender               100000 non-null  object \n",
      " 1   age                  100000 non-null  float64\n",
      " 2   hypertension         100000 non-null  int64  \n",
      " 3   heart_disease        100000 non-null  int64  \n",
      " 4   smoking_history      100000 non-null  object \n",
      " 5   bmi                  100000 non-null  float64\n",
      " 6   HbA1c_level          100000 non-null  float64\n",
      " 7   blood_glucose_level  100000 non-null  int64  \n",
      " 8   diabetes             100000 non-null  int64  \n",
      "dtypes: float64(3), int64(4), object(2)\n",
      "memory usage: 6.9+ MB\n"
     ]
    }
   ],
   "source": [
    "data.info()"
   ]
  },
  {
   "cell_type": "code",
   "execution_count": 4,
   "id": "d56cc0f2",
   "metadata": {
    "execution": {
     "iopub.execute_input": "2025-10-08T14:04:08.340558Z",
     "iopub.status.busy": "2025-10-08T14:04:08.340168Z",
     "iopub.status.idle": "2025-10-08T14:04:08.368798Z",
     "shell.execute_reply": "2025-10-08T14:04:08.367718Z"
    },
    "papermill": {
     "duration": 0.038008,
     "end_time": "2025-10-08T14:04:08.370527",
     "exception": false,
     "start_time": "2025-10-08T14:04:08.332519",
     "status": "completed"
    },
    "tags": []
   },
   "outputs": [
    {
     "data": {
      "text/html": [
       "<div>\n",
       "<style scoped>\n",
       "    .dataframe tbody tr th:only-of-type {\n",
       "        vertical-align: middle;\n",
       "    }\n",
       "\n",
       "    .dataframe tbody tr th {\n",
       "        vertical-align: top;\n",
       "    }\n",
       "\n",
       "    .dataframe thead th {\n",
       "        text-align: right;\n",
       "    }\n",
       "</style>\n",
       "<table border=\"1\" class=\"dataframe\">\n",
       "  <thead>\n",
       "    <tr style=\"text-align: right;\">\n",
       "      <th></th>\n",
       "      <th>gender</th>\n",
       "      <th>age</th>\n",
       "      <th>hypertension</th>\n",
       "      <th>heart_disease</th>\n",
       "      <th>smoking_history</th>\n",
       "      <th>bmi</th>\n",
       "      <th>HbA1c_level</th>\n",
       "      <th>blood_glucose_level</th>\n",
       "      <th>diabetes</th>\n",
       "    </tr>\n",
       "  </thead>\n",
       "  <tbody>\n",
       "    <tr>\n",
       "      <th>0</th>\n",
       "      <td>Female</td>\n",
       "      <td>80.0</td>\n",
       "      <td>0</td>\n",
       "      <td>1</td>\n",
       "      <td>never</td>\n",
       "      <td>25.19</td>\n",
       "      <td>6.6</td>\n",
       "      <td>140</td>\n",
       "      <td>0</td>\n",
       "    </tr>\n",
       "    <tr>\n",
       "      <th>1</th>\n",
       "      <td>Female</td>\n",
       "      <td>54.0</td>\n",
       "      <td>0</td>\n",
       "      <td>0</td>\n",
       "      <td>No Info</td>\n",
       "      <td>27.32</td>\n",
       "      <td>6.6</td>\n",
       "      <td>80</td>\n",
       "      <td>0</td>\n",
       "    </tr>\n",
       "    <tr>\n",
       "      <th>2</th>\n",
       "      <td>Male</td>\n",
       "      <td>28.0</td>\n",
       "      <td>0</td>\n",
       "      <td>0</td>\n",
       "      <td>never</td>\n",
       "      <td>27.32</td>\n",
       "      <td>5.7</td>\n",
       "      <td>158</td>\n",
       "      <td>0</td>\n",
       "    </tr>\n",
       "    <tr>\n",
       "      <th>3</th>\n",
       "      <td>Female</td>\n",
       "      <td>36.0</td>\n",
       "      <td>0</td>\n",
       "      <td>0</td>\n",
       "      <td>current</td>\n",
       "      <td>23.45</td>\n",
       "      <td>5.0</td>\n",
       "      <td>155</td>\n",
       "      <td>0</td>\n",
       "    </tr>\n",
       "    <tr>\n",
       "      <th>4</th>\n",
       "      <td>Male</td>\n",
       "      <td>76.0</td>\n",
       "      <td>1</td>\n",
       "      <td>1</td>\n",
       "      <td>current</td>\n",
       "      <td>20.14</td>\n",
       "      <td>4.8</td>\n",
       "      <td>155</td>\n",
       "      <td>0</td>\n",
       "    </tr>\n",
       "  </tbody>\n",
       "</table>\n",
       "</div>"
      ],
      "text/plain": [
       "   gender   age  hypertension  heart_disease smoking_history    bmi  \\\n",
       "0  Female  80.0             0              1           never  25.19   \n",
       "1  Female  54.0             0              0         No Info  27.32   \n",
       "2    Male  28.0             0              0           never  27.32   \n",
       "3  Female  36.0             0              0         current  23.45   \n",
       "4    Male  76.0             1              1         current  20.14   \n",
       "\n",
       "   HbA1c_level  blood_glucose_level  diabetes  \n",
       "0          6.6                  140         0  \n",
       "1          6.6                   80         0  \n",
       "2          5.7                  158         0  \n",
       "3          5.0                  155         0  \n",
       "4          4.8                  155         0  "
      ]
     },
     "execution_count": 4,
     "metadata": {},
     "output_type": "execute_result"
    }
   ],
   "source": [
    "data.head()"
   ]
  },
  {
   "cell_type": "code",
   "execution_count": 5,
   "id": "3cd7365e",
   "metadata": {
    "execution": {
     "iopub.execute_input": "2025-10-08T14:04:08.386941Z",
     "iopub.status.busy": "2025-10-08T14:04:08.386196Z",
     "iopub.status.idle": "2025-10-08T14:04:08.447623Z",
     "shell.execute_reply": "2025-10-08T14:04:08.446352Z"
    },
    "papermill": {
     "duration": 0.07154,
     "end_time": "2025-10-08T14:04:08.449459",
     "exception": false,
     "start_time": "2025-10-08T14:04:08.377919",
     "status": "completed"
    },
    "tags": []
   },
   "outputs": [
    {
     "data": {
      "text/html": [
       "<div>\n",
       "<style scoped>\n",
       "    .dataframe tbody tr th:only-of-type {\n",
       "        vertical-align: middle;\n",
       "    }\n",
       "\n",
       "    .dataframe tbody tr th {\n",
       "        vertical-align: top;\n",
       "    }\n",
       "\n",
       "    .dataframe thead th {\n",
       "        text-align: right;\n",
       "    }\n",
       "</style>\n",
       "<table border=\"1\" class=\"dataframe\">\n",
       "  <thead>\n",
       "    <tr style=\"text-align: right;\">\n",
       "      <th></th>\n",
       "      <th>age</th>\n",
       "      <th>hypertension</th>\n",
       "      <th>heart_disease</th>\n",
       "      <th>bmi</th>\n",
       "      <th>HbA1c_level</th>\n",
       "      <th>blood_glucose_level</th>\n",
       "      <th>diabetes</th>\n",
       "    </tr>\n",
       "  </thead>\n",
       "  <tbody>\n",
       "    <tr>\n",
       "      <th>count</th>\n",
       "      <td>100000.000000</td>\n",
       "      <td>100000.00000</td>\n",
       "      <td>100000.000000</td>\n",
       "      <td>100000.000000</td>\n",
       "      <td>100000.000000</td>\n",
       "      <td>100000.000000</td>\n",
       "      <td>100000.000000</td>\n",
       "    </tr>\n",
       "    <tr>\n",
       "      <th>mean</th>\n",
       "      <td>41.885856</td>\n",
       "      <td>0.07485</td>\n",
       "      <td>0.039420</td>\n",
       "      <td>27.320767</td>\n",
       "      <td>5.527507</td>\n",
       "      <td>138.058060</td>\n",
       "      <td>0.085000</td>\n",
       "    </tr>\n",
       "    <tr>\n",
       "      <th>std</th>\n",
       "      <td>22.516840</td>\n",
       "      <td>0.26315</td>\n",
       "      <td>0.194593</td>\n",
       "      <td>6.636783</td>\n",
       "      <td>1.070672</td>\n",
       "      <td>40.708136</td>\n",
       "      <td>0.278883</td>\n",
       "    </tr>\n",
       "    <tr>\n",
       "      <th>min</th>\n",
       "      <td>0.080000</td>\n",
       "      <td>0.00000</td>\n",
       "      <td>0.000000</td>\n",
       "      <td>10.010000</td>\n",
       "      <td>3.500000</td>\n",
       "      <td>80.000000</td>\n",
       "      <td>0.000000</td>\n",
       "    </tr>\n",
       "    <tr>\n",
       "      <th>25%</th>\n",
       "      <td>24.000000</td>\n",
       "      <td>0.00000</td>\n",
       "      <td>0.000000</td>\n",
       "      <td>23.630000</td>\n",
       "      <td>4.800000</td>\n",
       "      <td>100.000000</td>\n",
       "      <td>0.000000</td>\n",
       "    </tr>\n",
       "    <tr>\n",
       "      <th>50%</th>\n",
       "      <td>43.000000</td>\n",
       "      <td>0.00000</td>\n",
       "      <td>0.000000</td>\n",
       "      <td>27.320000</td>\n",
       "      <td>5.800000</td>\n",
       "      <td>140.000000</td>\n",
       "      <td>0.000000</td>\n",
       "    </tr>\n",
       "    <tr>\n",
       "      <th>75%</th>\n",
       "      <td>60.000000</td>\n",
       "      <td>0.00000</td>\n",
       "      <td>0.000000</td>\n",
       "      <td>29.580000</td>\n",
       "      <td>6.200000</td>\n",
       "      <td>159.000000</td>\n",
       "      <td>0.000000</td>\n",
       "    </tr>\n",
       "    <tr>\n",
       "      <th>max</th>\n",
       "      <td>80.000000</td>\n",
       "      <td>1.00000</td>\n",
       "      <td>1.000000</td>\n",
       "      <td>95.690000</td>\n",
       "      <td>9.000000</td>\n",
       "      <td>300.000000</td>\n",
       "      <td>1.000000</td>\n",
       "    </tr>\n",
       "  </tbody>\n",
       "</table>\n",
       "</div>"
      ],
      "text/plain": [
       "                 age  hypertension  heart_disease            bmi  \\\n",
       "count  100000.000000  100000.00000  100000.000000  100000.000000   \n",
       "mean       41.885856       0.07485       0.039420      27.320767   \n",
       "std        22.516840       0.26315       0.194593       6.636783   \n",
       "min         0.080000       0.00000       0.000000      10.010000   \n",
       "25%        24.000000       0.00000       0.000000      23.630000   \n",
       "50%        43.000000       0.00000       0.000000      27.320000   \n",
       "75%        60.000000       0.00000       0.000000      29.580000   \n",
       "max        80.000000       1.00000       1.000000      95.690000   \n",
       "\n",
       "         HbA1c_level  blood_glucose_level       diabetes  \n",
       "count  100000.000000        100000.000000  100000.000000  \n",
       "mean        5.527507           138.058060       0.085000  \n",
       "std         1.070672            40.708136       0.278883  \n",
       "min         3.500000            80.000000       0.000000  \n",
       "25%         4.800000           100.000000       0.000000  \n",
       "50%         5.800000           140.000000       0.000000  \n",
       "75%         6.200000           159.000000       0.000000  \n",
       "max         9.000000           300.000000       1.000000  "
      ]
     },
     "execution_count": 5,
     "metadata": {},
     "output_type": "execute_result"
    }
   ],
   "source": [
    "data.describe()"
   ]
  },
  {
   "cell_type": "code",
   "execution_count": 6,
   "id": "0d7feeed",
   "metadata": {
    "execution": {
     "iopub.execute_input": "2025-10-08T14:04:08.467036Z",
     "iopub.status.busy": "2025-10-08T14:04:08.466728Z",
     "iopub.status.idle": "2025-10-08T14:04:08.481878Z",
     "shell.execute_reply": "2025-10-08T14:04:08.480585Z"
    },
    "papermill": {
     "duration": 0.026416,
     "end_time": "2025-10-08T14:04:08.483895",
     "exception": false,
     "start_time": "2025-10-08T14:04:08.457479",
     "status": "completed"
    },
    "tags": []
   },
   "outputs": [
    {
     "data": {
      "text/html": [
       "<div>\n",
       "<style scoped>\n",
       "    .dataframe tbody tr th:only-of-type {\n",
       "        vertical-align: middle;\n",
       "    }\n",
       "\n",
       "    .dataframe tbody tr th {\n",
       "        vertical-align: top;\n",
       "    }\n",
       "\n",
       "    .dataframe thead th {\n",
       "        text-align: right;\n",
       "    }\n",
       "</style>\n",
       "<table border=\"1\" class=\"dataframe\">\n",
       "  <thead>\n",
       "    <tr style=\"text-align: right;\">\n",
       "      <th></th>\n",
       "      <th>gender</th>\n",
       "      <th>age</th>\n",
       "      <th>hypertension</th>\n",
       "      <th>heart_disease</th>\n",
       "      <th>smoking_history</th>\n",
       "      <th>bmi</th>\n",
       "      <th>HbA1c_level</th>\n",
       "      <th>blood_glucose_level</th>\n",
       "      <th>diabetes</th>\n",
       "    </tr>\n",
       "  </thead>\n",
       "  <tbody>\n",
       "    <tr>\n",
       "      <th>0</th>\n",
       "      <td>Female</td>\n",
       "      <td>80.0</td>\n",
       "      <td>0</td>\n",
       "      <td>1</td>\n",
       "      <td>never</td>\n",
       "      <td>25.19</td>\n",
       "      <td>6.6</td>\n",
       "      <td>140</td>\n",
       "      <td>0</td>\n",
       "    </tr>\n",
       "    <tr>\n",
       "      <th>1</th>\n",
       "      <td>Female</td>\n",
       "      <td>54.0</td>\n",
       "      <td>0</td>\n",
       "      <td>0</td>\n",
       "      <td>No Info</td>\n",
       "      <td>27.32</td>\n",
       "      <td>6.6</td>\n",
       "      <td>80</td>\n",
       "      <td>0</td>\n",
       "    </tr>\n",
       "    <tr>\n",
       "      <th>2</th>\n",
       "      <td>Male</td>\n",
       "      <td>28.0</td>\n",
       "      <td>0</td>\n",
       "      <td>0</td>\n",
       "      <td>never</td>\n",
       "      <td>27.32</td>\n",
       "      <td>5.7</td>\n",
       "      <td>158</td>\n",
       "      <td>0</td>\n",
       "    </tr>\n",
       "    <tr>\n",
       "      <th>3</th>\n",
       "      <td>Female</td>\n",
       "      <td>36.0</td>\n",
       "      <td>0</td>\n",
       "      <td>0</td>\n",
       "      <td>current</td>\n",
       "      <td>23.45</td>\n",
       "      <td>5.0</td>\n",
       "      <td>155</td>\n",
       "      <td>0</td>\n",
       "    </tr>\n",
       "    <tr>\n",
       "      <th>4</th>\n",
       "      <td>Male</td>\n",
       "      <td>76.0</td>\n",
       "      <td>1</td>\n",
       "      <td>1</td>\n",
       "      <td>current</td>\n",
       "      <td>20.14</td>\n",
       "      <td>4.8</td>\n",
       "      <td>155</td>\n",
       "      <td>0</td>\n",
       "    </tr>\n",
       "  </tbody>\n",
       "</table>\n",
       "</div>"
      ],
      "text/plain": [
       "   gender   age  hypertension  heart_disease smoking_history    bmi  \\\n",
       "0  Female  80.0             0              1           never  25.19   \n",
       "1  Female  54.0             0              0         No Info  27.32   \n",
       "2    Male  28.0             0              0           never  27.32   \n",
       "3  Female  36.0             0              0         current  23.45   \n",
       "4    Male  76.0             1              1         current  20.14   \n",
       "\n",
       "   HbA1c_level  blood_glucose_level  diabetes  \n",
       "0          6.6                  140         0  \n",
       "1          6.6                   80         0  \n",
       "2          5.7                  158         0  \n",
       "3          5.0                  155         0  \n",
       "4          4.8                  155         0  "
      ]
     },
     "execution_count": 6,
     "metadata": {},
     "output_type": "execute_result"
    }
   ],
   "source": [
    "data.head()"
   ]
  },
  {
   "cell_type": "code",
   "execution_count": 7,
   "id": "5bff747a",
   "metadata": {
    "execution": {
     "iopub.execute_input": "2025-10-08T14:04:08.502178Z",
     "iopub.status.busy": "2025-10-08T14:04:08.501778Z",
     "iopub.status.idle": "2025-10-08T14:04:08.516764Z",
     "shell.execute_reply": "2025-10-08T14:04:08.515255Z"
    },
    "papermill": {
     "duration": 0.02637,
     "end_time": "2025-10-08T14:04:08.518825",
     "exception": false,
     "start_time": "2025-10-08T14:04:08.492455",
     "status": "completed"
    },
    "tags": []
   },
   "outputs": [
    {
     "data": {
      "text/plain": [
       "array(['never', 'No Info', 'current', 'former', 'ever', 'not current'],\n",
       "      dtype=object)"
      ]
     },
     "execution_count": 7,
     "metadata": {},
     "output_type": "execute_result"
    }
   ],
   "source": [
    "data[\"smoking_history\"].unique()"
   ]
  },
  {
   "cell_type": "code",
   "execution_count": 8,
   "id": "baa7551c",
   "metadata": {
    "execution": {
     "iopub.execute_input": "2025-10-08T14:04:08.535633Z",
     "iopub.status.busy": "2025-10-08T14:04:08.535199Z",
     "iopub.status.idle": "2025-10-08T14:04:08.547391Z",
     "shell.execute_reply": "2025-10-08T14:04:08.546226Z"
    },
    "papermill": {
     "duration": 0.022465,
     "end_time": "2025-10-08T14:04:08.549065",
     "exception": false,
     "start_time": "2025-10-08T14:04:08.526600",
     "status": "completed"
    },
    "tags": []
   },
   "outputs": [
    {
     "data": {
      "text/plain": [
       "array(['Female', 'Male', 'Other'], dtype=object)"
      ]
     },
     "execution_count": 8,
     "metadata": {},
     "output_type": "execute_result"
    }
   ],
   "source": [
    "data[\"gender\"].unique()"
   ]
  },
  {
   "cell_type": "code",
   "execution_count": 9,
   "id": "31b6eff4",
   "metadata": {
    "execution": {
     "iopub.execute_input": "2025-10-08T14:04:08.566536Z",
     "iopub.status.busy": "2025-10-08T14:04:08.565769Z",
     "iopub.status.idle": "2025-10-08T14:04:08.591233Z",
     "shell.execute_reply": "2025-10-08T14:04:08.590228Z"
    },
    "papermill": {
     "duration": 0.035708,
     "end_time": "2025-10-08T14:04:08.593041",
     "exception": false,
     "start_time": "2025-10-08T14:04:08.557333",
     "status": "completed"
    },
    "tags": []
   },
   "outputs": [
    {
     "data": {
      "text/html": [
       "<div>\n",
       "<style scoped>\n",
       "    .dataframe tbody tr th:only-of-type {\n",
       "        vertical-align: middle;\n",
       "    }\n",
       "\n",
       "    .dataframe tbody tr th {\n",
       "        vertical-align: top;\n",
       "    }\n",
       "\n",
       "    .dataframe thead th {\n",
       "        text-align: right;\n",
       "    }\n",
       "</style>\n",
       "<table border=\"1\" class=\"dataframe\">\n",
       "  <thead>\n",
       "    <tr style=\"text-align: right;\">\n",
       "      <th></th>\n",
       "      <th>diabetes</th>\n",
       "    </tr>\n",
       "    <tr>\n",
       "      <th>gender</th>\n",
       "      <th></th>\n",
       "    </tr>\n",
       "  </thead>\n",
       "  <tbody>\n",
       "    <tr>\n",
       "      <th>Male</th>\n",
       "      <td>0.097490</td>\n",
       "    </tr>\n",
       "    <tr>\n",
       "      <th>Female</th>\n",
       "      <td>0.076189</td>\n",
       "    </tr>\n",
       "    <tr>\n",
       "      <th>Other</th>\n",
       "      <td>0.000000</td>\n",
       "    </tr>\n",
       "  </tbody>\n",
       "</table>\n",
       "</div>"
      ],
      "text/plain": [
       "        diabetes\n",
       "gender          \n",
       "Male    0.097490\n",
       "Female  0.076189\n",
       "Other   0.000000"
      ]
     },
     "execution_count": 9,
     "metadata": {},
     "output_type": "execute_result"
    }
   ],
   "source": [
    "data[['gender','diabetes']].groupby(['gender'], as_index=True).mean().sort_values(by='diabetes',ascending=False)"
   ]
  },
  {
   "cell_type": "code",
   "execution_count": 10,
   "id": "b394a946",
   "metadata": {
    "execution": {
     "iopub.execute_input": "2025-10-08T14:04:08.610543Z",
     "iopub.status.busy": "2025-10-08T14:04:08.610167Z",
     "iopub.status.idle": "2025-10-08T14:04:08.621892Z",
     "shell.execute_reply": "2025-10-08T14:04:08.620548Z"
    },
    "papermill": {
     "duration": 0.022217,
     "end_time": "2025-10-08T14:04:08.623996",
     "exception": false,
     "start_time": "2025-10-08T14:04:08.601779",
     "status": "completed"
    },
    "tags": []
   },
   "outputs": [
    {
     "data": {
      "text/plain": [
       "0.90    0.0\n",
       "0.91    0.0\n",
       "0.92    1.0\n",
       "1.00    1.0\n",
       "Name: diabetes, dtype: float64"
      ]
     },
     "execution_count": 10,
     "metadata": {},
     "output_type": "execute_result"
    }
   ],
   "source": [
    "data['diabetes'].quantile([0.9, 0.91, 0.92, 1.0])"
   ]
  },
  {
   "cell_type": "code",
   "execution_count": 11,
   "id": "1b1a0c50",
   "metadata": {
    "execution": {
     "iopub.execute_input": "2025-10-08T14:04:08.641286Z",
     "iopub.status.busy": "2025-10-08T14:04:08.640957Z",
     "iopub.status.idle": "2025-10-08T14:04:09.049034Z",
     "shell.execute_reply": "2025-10-08T14:04:09.047575Z"
    },
    "papermill": {
     "duration": 0.419887,
     "end_time": "2025-10-08T14:04:09.052302",
     "exception": false,
     "start_time": "2025-10-08T14:04:08.632415",
     "status": "completed"
    },
    "tags": []
   },
   "outputs": [
    {
     "data": {
      "image/png": "[encoded data removed]",
      "text/plain": [
       "<Figure size 640x480 with 1 Axes>"
      ]
     },
     "metadata": {},
     "output_type": "display_data"
    }
   ],
   "source": [
    "data['age_group'] = pd.cut(data['age'], bins=[0,20,30,40,50,60,70,80])\n",
    "grouped = data.groupby('age_group')['diabetes'].mean().reset_index()\n",
    "\n",
    "sns.barplot(x='age_group', y='diabetes', data=grouped)\n",
    "plt.title(\"Average Diabetes Rate by Age Group\")\n",
    "plt.ylabel(\"Proportion with Diabetes\")\n",
    "plt.xticks(rotation=45)\n",
    "plt.show()"
   ]
  },
  {
   "cell_type": "code",
   "execution_count": 12,
   "id": "c2e2d687",
   "metadata": {
    "execution": {
     "iopub.execute_input": "2025-10-08T14:04:09.074404Z",
     "iopub.status.busy": "2025-10-08T14:04:09.073965Z",
     "iopub.status.idle": "2025-10-08T14:04:09.085856Z",
     "shell.execute_reply": "2025-10-08T14:04:09.083807Z"
    },
    "papermill": {
     "duration": 0.025484,
     "end_time": "2025-10-08T14:04:09.088191",
     "exception": false,
     "start_time": "2025-10-08T14:04:09.062707",
     "status": "completed"
    },
    "tags": []
   },
   "outputs": [],
   "source": [
    "data['age_category'] = pd.cut(\n",
    "    data['age'],\n",
    "    bins=[0, 30, 50, data['age'].max()],  # 0–30, 30–50, 50+\n",
    "    labels=['0–30', '30–50', '50+'],\n",
    "    include_lowest=True\n",
    ")"
   ]
  },
  {
   "cell_type": "code",
   "execution_count": 13,
   "id": "1f49cdd2",
   "metadata": {
    "execution": {
     "iopub.execute_input": "2025-10-08T14:04:09.110416Z",
     "iopub.status.busy": "2025-10-08T14:04:09.110042Z",
     "iopub.status.idle": "2025-10-08T14:04:09.151711Z",
     "shell.execute_reply": "2025-10-08T14:04:09.150212Z"
    },
    "papermill": {
     "duration": 0.055153,
     "end_time": "2025-10-08T14:04:09.153880",
     "exception": false,
     "start_time": "2025-10-08T14:04:09.098727",
     "status": "completed"
    },
    "tags": []
   },
   "outputs": [
    {
     "name": "stdout",
     "output_type": "stream",
     "text": [
      "<class 'pandas.core.frame.DataFrame'>\n",
      "RangeIndex: 100000 entries, 0 to 99999\n",
      "Data columns (total 11 columns):\n",
      " #   Column               Non-Null Count   Dtype   \n",
      "---  ------               --------------   -----   \n",
      " 0   gender               100000 non-null  object  \n",
      " 1   age                  100000 non-null  float64 \n",
      " 2   hypertension         100000 non-null  int64   \n",
      " 3   heart_disease        100000 non-null  int64   \n",
      " 4   smoking_history      100000 non-null  object  \n",
      " 5   bmi                  100000 non-null  float64 \n",
      " 6   HbA1c_level          100000 non-null  float64 \n",
      " 7   blood_glucose_level  100000 non-null  int64   \n",
      " 8   diabetes             100000 non-null  int64   \n",
      " 9   age_group            100000 non-null  category\n",
      " 10  age_category         100000 non-null  category\n",
      "dtypes: category(2), float64(3), int64(4), object(2)\n",
      "memory usage: 7.1+ MB\n"
     ]
    }
   ],
   "source": [
    "data.info()"
   ]
  },
  {
   "cell_type": "code",
   "execution_count": 14,
   "id": "9216129f",
   "metadata": {
    "execution": {
     "iopub.execute_input": "2025-10-08T14:04:09.179520Z",
     "iopub.status.busy": "2025-10-08T14:04:09.179108Z",
     "iopub.status.idle": "2025-10-08T14:04:09.190544Z",
     "shell.execute_reply": "2025-10-08T14:04:09.188098Z"
    },
    "papermill": {
     "duration": 0.028039,
     "end_time": "2025-10-08T14:04:09.194516",
     "exception": false,
     "start_time": "2025-10-08T14:04:09.166477",
     "status": "completed"
    },
    "tags": []
   },
   "outputs": [],
   "source": [
    "data = data.drop(['age', 'age_group'], axis = 1)"
   ]
  },
  {
   "cell_type": "code",
   "execution_count": 15,
   "id": "233d4e83",
   "metadata": {
    "execution": {
     "iopub.execute_input": "2025-10-08T14:04:09.217899Z",
     "iopub.status.busy": "2025-10-08T14:04:09.216970Z",
     "iopub.status.idle": "2025-10-08T14:04:09.237572Z",
     "shell.execute_reply": "2025-10-08T14:04:09.235202Z"
    },
    "papermill": {
     "duration": 0.034403,
     "end_time": "2025-10-08T14:04:09.240019",
     "exception": false,
     "start_time": "2025-10-08T14:04:09.205616",
     "status": "completed"
    },
    "tags": []
   },
   "outputs": [
    {
     "data": {
      "text/html": [
       "<div>\n",
       "<style scoped>\n",
       "    .dataframe tbody tr th:only-of-type {\n",
       "        vertical-align: middle;\n",
       "    }\n",
       "\n",
       "    .dataframe tbody tr th {\n",
       "        vertical-align: top;\n",
       "    }\n",
       "\n",
       "    .dataframe thead th {\n",
       "        text-align: right;\n",
       "    }\n",
       "</style>\n",
       "<table border=\"1\" class=\"dataframe\">\n",
       "  <thead>\n",
       "    <tr style=\"text-align: right;\">\n",
       "      <th></th>\n",
       "      <th>gender</th>\n",
       "      <th>hypertension</th>\n",
       "      <th>heart_disease</th>\n",
       "      <th>smoking_history</th>\n",
       "      <th>bmi</th>\n",
       "      <th>HbA1c_level</th>\n",
       "      <th>blood_glucose_level</th>\n",
       "      <th>diabetes</th>\n",
       "      <th>age_category</th>\n",
       "    </tr>\n",
       "  </thead>\n",
       "  <tbody>\n",
       "    <tr>\n",
       "      <th>0</th>\n",
       "      <td>Female</td>\n",
       "      <td>0</td>\n",
       "      <td>1</td>\n",
       "      <td>never</td>\n",
       "      <td>25.19</td>\n",
       "      <td>6.6</td>\n",
       "      <td>140</td>\n",
       "      <td>0</td>\n",
       "      <td>50+</td>\n",
       "    </tr>\n",
       "    <tr>\n",
       "      <th>1</th>\n",
       "      <td>Female</td>\n",
       "      <td>0</td>\n",
       "      <td>0</td>\n",
       "      <td>No Info</td>\n",
       "      <td>27.32</td>\n",
       "      <td>6.6</td>\n",
       "      <td>80</td>\n",
       "      <td>0</td>\n",
       "      <td>50+</td>\n",
       "    </tr>\n",
       "    <tr>\n",
       "      <th>2</th>\n",
       "      <td>Male</td>\n",
       "      <td>0</td>\n",
       "      <td>0</td>\n",
       "      <td>never</td>\n",
       "      <td>27.32</td>\n",
       "      <td>5.7</td>\n",
       "      <td>158</td>\n",
       "      <td>0</td>\n",
       "      <td>0–30</td>\n",
       "    </tr>\n",
       "    <tr>\n",
       "      <th>3</th>\n",
       "      <td>Female</td>\n",
       "      <td>0</td>\n",
       "      <td>0</td>\n",
       "      <td>current</td>\n",
       "      <td>23.45</td>\n",
       "      <td>5.0</td>\n",
       "      <td>155</td>\n",
       "      <td>0</td>\n",
       "      <td>30–50</td>\n",
       "    </tr>\n",
       "    <tr>\n",
       "      <th>4</th>\n",
       "      <td>Male</td>\n",
       "      <td>1</td>\n",
       "      <td>1</td>\n",
       "      <td>current</td>\n",
       "      <td>20.14</td>\n",
       "      <td>4.8</td>\n",
       "      <td>155</td>\n",
       "      <td>0</td>\n",
       "      <td>50+</td>\n",
       "    </tr>\n",
       "  </tbody>\n",
       "</table>\n",
       "</div>"
      ],
      "text/plain": [
       "   gender  hypertension  heart_disease smoking_history    bmi  HbA1c_level  \\\n",
       "0  Female             0              1           never  25.19          6.6   \n",
       "1  Female             0              0         No Info  27.32          6.6   \n",
       "2    Male             0              0           never  27.32          5.7   \n",
       "3  Female             0              0         current  23.45          5.0   \n",
       "4    Male             1              1         current  20.14          4.8   \n",
       "\n",
       "   blood_glucose_level  diabetes age_category  \n",
       "0                  140         0          50+  \n",
       "1                   80         0          50+  \n",
       "2                  158         0         0–30  \n",
       "3                  155         0        30–50  \n",
       "4                  155         0          50+  "
      ]
     },
     "execution_count": 15,
     "metadata": {},
     "output_type": "execute_result"
    }
   ],
   "source": [
    "data.head()"
   ]
  },
  {
   "cell_type": "code",
   "execution_count": 16,
   "id": "2697b841",
   "metadata": {
    "execution": {
     "iopub.execute_input": "2025-10-08T14:04:09.263294Z",
     "iopub.status.busy": "2025-10-08T14:04:09.262986Z",
     "iopub.status.idle": "2025-10-08T14:04:09.294148Z",
     "shell.execute_reply": "2025-10-08T14:04:09.292575Z"
    },
    "papermill": {
     "duration": 0.04501,
     "end_time": "2025-10-08T14:04:09.296264",
     "exception": false,
     "start_time": "2025-10-08T14:04:09.251254",
     "status": "completed"
    },
    "tags": []
   },
   "outputs": [
    {
     "data": {
      "text/html": [
       "<div>\n",
       "<style scoped>\n",
       "    .dataframe tbody tr th:only-of-type {\n",
       "        vertical-align: middle;\n",
       "    }\n",
       "\n",
       "    .dataframe tbody tr th {\n",
       "        vertical-align: top;\n",
       "    }\n",
       "\n",
       "    .dataframe thead th {\n",
       "        text-align: right;\n",
       "    }\n",
       "</style>\n",
       "<table border=\"1\" class=\"dataframe\">\n",
       "  <thead>\n",
       "    <tr style=\"text-align: right;\">\n",
       "      <th></th>\n",
       "      <th>diabetes</th>\n",
       "    </tr>\n",
       "    <tr>\n",
       "      <th>smoking_history</th>\n",
       "      <th></th>\n",
       "    </tr>\n",
       "  </thead>\n",
       "  <tbody>\n",
       "    <tr>\n",
       "      <th>former</th>\n",
       "      <td>0.170017</td>\n",
       "    </tr>\n",
       "    <tr>\n",
       "      <th>ever</th>\n",
       "      <td>0.117882</td>\n",
       "    </tr>\n",
       "    <tr>\n",
       "      <th>not current</th>\n",
       "      <td>0.107027</td>\n",
       "    </tr>\n",
       "    <tr>\n",
       "      <th>current</th>\n",
       "      <td>0.102089</td>\n",
       "    </tr>\n",
       "    <tr>\n",
       "      <th>never</th>\n",
       "      <td>0.095341</td>\n",
       "    </tr>\n",
       "    <tr>\n",
       "      <th>No Info</th>\n",
       "      <td>0.040596</td>\n",
       "    </tr>\n",
       "  </tbody>\n",
       "</table>\n",
       "</div>"
      ],
      "text/plain": [
       "                 diabetes\n",
       "smoking_history          \n",
       "former           0.170017\n",
       "ever             0.117882\n",
       "not current      0.107027\n",
       "current          0.102089\n",
       "never            0.095341\n",
       "No Info          0.040596"
      ]
     },
     "execution_count": 16,
     "metadata": {},
     "output_type": "execute_result"
    }
   ],
   "source": [
    "data[['smoking_history','diabetes']].groupby(['smoking_history'], as_index=True).mean().sort_values(by='diabetes',ascending=False)"
   ]
  },
  {
   "cell_type": "code",
   "execution_count": 17,
   "id": "cfbfd4bb",
   "metadata": {
    "execution": {
     "iopub.execute_input": "2025-10-08T14:04:09.321908Z",
     "iopub.status.busy": "2025-10-08T14:04:09.321541Z",
     "iopub.status.idle": "2025-10-08T14:04:09.743450Z",
     "shell.execute_reply": "2025-10-08T14:04:09.742349Z"
    },
    "papermill": {
     "duration": 0.436555,
     "end_time": "2025-10-08T14:04:09.745269",
     "exception": false,
     "start_time": "2025-10-08T14:04:09.308714",
     "status": "completed"
    },
    "tags": []
   },
   "outputs": [
    {
     "data": {
      "image/png": "[encoded data removed]",
      "text/plain": [
       "<Figure size 800x600 with 2 Axes>"
      ]
     },
     "metadata": {},
     "output_type": "display_data"
    }
   ],
   "source": [
    "corr = data.select_dtypes(include=['number']).corr()\n",
    "\n",
    "plt.figure(figsize=(8,6))\n",
    "sns.heatmap(corr, annot=True, cmap='coolwarm', fmt=\".2f\")\n",
    "plt.title(\"Correlation Matrix (Numeric Variables Only)\")\n",
    "plt.show()"
   ]
  },
  {
   "cell_type": "code",
   "execution_count": 18,
   "id": "00e36f05",
   "metadata": {
    "execution": {
     "iopub.execute_input": "2025-10-08T14:04:09.767442Z",
     "iopub.status.busy": "2025-10-08T14:04:09.767074Z",
     "iopub.status.idle": "2025-10-08T14:04:09.834588Z",
     "shell.execute_reply": "2025-10-08T14:04:09.833453Z"
    },
    "papermill": {
     "duration": 0.080495,
     "end_time": "2025-10-08T14:04:09.836420",
     "exception": false,
     "start_time": "2025-10-08T14:04:09.755925",
     "status": "completed"
    },
    "tags": []
   },
   "outputs": [],
   "source": [
    "le = LabelEncoder()\n",
    "\n",
    "data['gender'] = le.fit_transform(data['gender'])\n",
    "data['smoking_history'] = le.fit_transform(data['smoking_history'])\n",
    "data['age_category'] = le.fit_transform(data['age_category'])"
   ]
  },
  {
   "cell_type": "code",
   "execution_count": 19,
   "id": "6a01f0b1",
   "metadata": {
    "execution": {
     "iopub.execute_input": "2025-10-08T14:04:09.858598Z",
     "iopub.status.busy": "2025-10-08T14:04:09.858212Z",
     "iopub.status.idle": "2025-10-08T14:04:09.872147Z",
     "shell.execute_reply": "2025-10-08T14:04:09.871141Z"
    },
    "papermill": {
     "duration": 0.027144,
     "end_time": "2025-10-08T14:04:09.874055",
     "exception": false,
     "start_time": "2025-10-08T14:04:09.846911",
     "status": "completed"
    },
    "tags": []
   },
   "outputs": [
    {
     "data": {
      "text/html": [
       "<div>\n",
       "<style scoped>\n",
       "    .dataframe tbody tr th:only-of-type {\n",
       "        vertical-align: middle;\n",
       "    }\n",
       "\n",
       "    .dataframe tbody tr th {\n",
       "        vertical-align: top;\n",
       "    }\n",
       "\n",
       "    .dataframe thead th {\n",
       "        text-align: right;\n",
       "    }\n",
       "</style>\n",
       "<table border=\"1\" class=\"dataframe\">\n",
       "  <thead>\n",
       "    <tr style=\"text-align: right;\">\n",
       "      <th></th>\n",
       "      <th>gender</th>\n",
       "      <th>hypertension</th>\n",
       "      <th>heart_disease</th>\n",
       "      <th>smoking_history</th>\n",
       "      <th>bmi</th>\n",
       "      <th>HbA1c_level</th>\n",
       "      <th>blood_glucose_level</th>\n",
       "      <th>diabetes</th>\n",
       "      <th>age_category</th>\n",
       "    </tr>\n",
       "  </thead>\n",
       "  <tbody>\n",
       "    <tr>\n",
       "      <th>0</th>\n",
       "      <td>0</td>\n",
       "      <td>0</td>\n",
       "      <td>1</td>\n",
       "      <td>4</td>\n",
       "      <td>25.19</td>\n",
       "      <td>6.6</td>\n",
       "      <td>140</td>\n",
       "      <td>0</td>\n",
       "      <td>2</td>\n",
       "    </tr>\n",
       "    <tr>\n",
       "      <th>1</th>\n",
       "      <td>0</td>\n",
       "      <td>0</td>\n",
       "      <td>0</td>\n",
       "      <td>0</td>\n",
       "      <td>27.32</td>\n",
       "      <td>6.6</td>\n",
       "      <td>80</td>\n",
       "      <td>0</td>\n",
       "      <td>2</td>\n",
       "    </tr>\n",
       "    <tr>\n",
       "      <th>2</th>\n",
       "      <td>1</td>\n",
       "      <td>0</td>\n",
       "      <td>0</td>\n",
       "      <td>4</td>\n",
       "      <td>27.32</td>\n",
       "      <td>5.7</td>\n",
       "      <td>158</td>\n",
       "      <td>0</td>\n",
       "      <td>0</td>\n",
       "    </tr>\n",
       "    <tr>\n",
       "      <th>3</th>\n",
       "      <td>0</td>\n",
       "      <td>0</td>\n",
       "      <td>0</td>\n",
       "      <td>1</td>\n",
       "      <td>23.45</td>\n",
       "      <td>5.0</td>\n",
       "      <td>155</td>\n",
       "      <td>0</td>\n",
       "      <td>1</td>\n",
       "    </tr>\n",
       "    <tr>\n",
       "      <th>4</th>\n",
       "      <td>1</td>\n",
       "      <td>1</td>\n",
       "      <td>1</td>\n",
       "      <td>1</td>\n",
       "      <td>20.14</td>\n",
       "      <td>4.8</td>\n",
       "      <td>155</td>\n",
       "      <td>0</td>\n",
       "      <td>2</td>\n",
       "    </tr>\n",
       "  </tbody>\n",
       "</table>\n",
       "</div>"
      ],
      "text/plain": [
       "   gender  hypertension  heart_disease  smoking_history    bmi  HbA1c_level  \\\n",
       "0       0             0              1                4  25.19          6.6   \n",
       "1       0             0              0                0  27.32          6.6   \n",
       "2       1             0              0                4  27.32          5.7   \n",
       "3       0             0              0                1  23.45          5.0   \n",
       "4       1             1              1                1  20.14          4.8   \n",
       "\n",
       "   blood_glucose_level  diabetes  age_category  \n",
       "0                  140         0             2  \n",
       "1                   80         0             2  \n",
       "2                  158         0             0  \n",
       "3                  155         0             1  \n",
       "4                  155         0             2  "
      ]
     },
     "execution_count": 19,
     "metadata": {},
     "output_type": "execute_result"
    }
   ],
   "source": [
    "data.head()"
   ]
  },
  {
   "cell_type": "code",
   "execution_count": 20,
   "id": "672b33cb",
   "metadata": {
    "execution": {
     "iopub.execute_input": "2025-10-08T14:04:09.898969Z",
     "iopub.status.busy": "2025-10-08T14:04:09.898624Z",
     "iopub.status.idle": "2025-10-08T14:04:09.928844Z",
     "shell.execute_reply": "2025-10-08T14:04:09.927747Z"
    },
    "papermill": {
     "duration": 0.04339,
     "end_time": "2025-10-08T14:04:09.930979",
     "exception": false,
     "start_time": "2025-10-08T14:04:09.887589",
     "status": "completed"
    },
    "tags": []
   },
   "outputs": [],
   "source": [
    "y = data['diabetes']\n",
    "X = data.drop(columns=['diabetes'])\n",
    "\n",
    "# Optional: add constant term for intercept\n",
    "X = sm.add_constant(X)"
   ]
  },
  {
   "cell_type": "code",
   "execution_count": 21,
   "id": "595b9eda",
   "metadata": {
    "execution": {
     "iopub.execute_input": "2025-10-08T14:04:09.953325Z",
     "iopub.status.busy": "2025-10-08T14:04:09.952985Z",
     "iopub.status.idle": "2025-10-08T14:04:10.325024Z",
     "shell.execute_reply": "2025-10-08T14:04:10.323744Z"
    },
    "papermill": {
     "duration": 0.384906,
     "end_time": "2025-10-08T14:04:10.326788",
     "exception": false,
     "start_time": "2025-10-08T14:04:09.941882",
     "status": "completed"
    },
    "tags": []
   },
   "outputs": [
    {
     "name": "stdout",
     "output_type": "stream",
     "text": [
      "Optimization terminated successfully.\n",
      "         Current function value: 0.114723\n",
      "         Iterations 10\n",
      "                           Logit Regression Results                           \n",
      "==============================================================================\n",
      "Dep. Variable:               diabetes   No. Observations:               100000\n",
      "Model:                          Logit   Df Residuals:                    99991\n",
      "Method:                           MLE   Df Model:                            8\n",
      "Date:                Wed, 08 Oct 2025   Pseudo R-squ.:                  0.6055\n",
      "Time:                        14:04:10   Log-Likelihood:                -11472.\n",
      "converged:                       True   LL-Null:                       -29081.\n",
      "Covariance Type:            nonrobust   LLR p-value:                     0.000\n",
      "=======================================================================================\n",
      "                          coef    std err          z      P>|z|      [0.025      0.975]\n",
      "---------------------------------------------------------------------------------------\n",
      "const                 -26.6596      0.282    -94.472      0.000     -27.213     -26.106\n",
      "gender                  0.2642      0.036      7.418      0.000       0.194       0.334\n",
      "hypertension            0.8295      0.047     17.734      0.000       0.738       0.921\n",
      "heart_disease           0.9237      0.060     15.403      0.000       0.806       1.041\n",
      "smoking_history         0.1015      0.010     10.005      0.000       0.082       0.121\n",
      "bmi                     0.0826      0.003     32.731      0.000       0.078       0.088\n",
      "HbA1c_level             2.3379      0.036     65.774      0.000       2.268       2.408\n",
      "blood_glucose_level     0.0334      0.000     69.833      0.000       0.032       0.034\n",
      "age_category            1.1470      0.030     38.419      0.000       1.088       1.206\n",
      "=======================================================================================\n",
      "\n",
      "Possibly complete quasi-separation: A fraction 0.13 of observations can be\n",
      "perfectly predicted. This might indicate that there is complete\n",
      "quasi-separation. In this case some parameters will not be identified.\n"
     ]
    }
   ],
   "source": [
    "logit_model = sm.Logit(y, X)\n",
    "result = logit_model.fit()\n",
    "\n",
    "print(result.summary())"
   ]
  },
  {
   "cell_type": "code",
   "execution_count": 22,
   "id": "306e44ae",
   "metadata": {
    "execution": {
     "iopub.execute_input": "2025-10-08T14:04:10.349984Z",
     "iopub.status.busy": "2025-10-08T14:04:10.349625Z",
     "iopub.status.idle": "2025-10-08T14:04:10.356308Z",
     "shell.execute_reply": "2025-10-08T14:04:10.354926Z"
    },
    "papermill": {
     "duration": 0.01992,
     "end_time": "2025-10-08T14:04:10.358101",
     "exception": false,
     "start_time": "2025-10-08T14:04:10.338181",
     "status": "completed"
    },
    "tags": []
   },
   "outputs": [
    {
     "name": "stdout",
     "output_type": "stream",
     "text": [
      "Significant features: ['const', 'gender', 'hypertension', 'heart_disease', 'smoking_history', 'bmi', 'HbA1c_level', 'blood_glucose_level', 'age_category']\n"
     ]
    }
   ],
   "source": [
    "significant_features = result.pvalues[result.pvalues < 0.05].index.tolist()\n",
    "print(\"Significant features:\", significant_features)"
   ]
  },
  {
   "cell_type": "code",
   "execution_count": 23,
   "id": "09d669e6",
   "metadata": {
    "execution": {
     "iopub.execute_input": "2025-10-08T14:04:10.380817Z",
     "iopub.status.busy": "2025-10-08T14:04:10.380328Z",
     "iopub.status.idle": "2025-10-08T14:04:10.385843Z",
     "shell.execute_reply": "2025-10-08T14:04:10.384541Z"
    },
    "papermill": {
     "duration": 0.019027,
     "end_time": "2025-10-08T14:04:10.387723",
     "exception": false,
     "start_time": "2025-10-08T14:04:10.368696",
     "status": "completed"
    },
    "tags": []
   },
   "outputs": [],
   "source": [
    "significant_features.remove('const')"
   ]
  },
  {
   "cell_type": "markdown",
   "id": "07b54100",
   "metadata": {
    "papermill": {
     "duration": 0.010036,
     "end_time": "2025-10-08T14:04:10.408197",
     "exception": false,
     "start_time": "2025-10-08T14:04:10.398161",
     "status": "completed"
    },
    "tags": []
   },
   "source": [
    "# **Model training**"
   ]
  },
  {
   "cell_type": "code",
   "execution_count": 24,
   "id": "5242c6f5",
   "metadata": {
    "execution": {
     "iopub.execute_input": "2025-10-08T14:04:10.431275Z",
     "iopub.status.busy": "2025-10-08T14:04:10.430942Z",
     "iopub.status.idle": "2025-10-08T14:04:10.482614Z",
     "shell.execute_reply": "2025-10-08T14:04:10.481240Z"
    },
    "papermill": {
     "duration": 0.065381,
     "end_time": "2025-10-08T14:04:10.484504",
     "exception": false,
     "start_time": "2025-10-08T14:04:10.419123",
     "status": "completed"
    },
    "tags": []
   },
   "outputs": [],
   "source": [
    "# Features and target\n",
    "X = data[significant_features]\n",
    "y = data['diabetes']\n",
    "\n",
    "# Train-test split\n",
    "X_train, X_test, y_train, y_test = train_test_split(X, y, test_size=0.2, random_state=42, stratify=y)"
   ]
  },
  {
   "cell_type": "code",
   "execution_count": 25,
   "id": "f8cc6cb3",
   "metadata": {
    "execution": {
     "iopub.execute_input": "2025-10-08T14:04:10.508130Z",
     "iopub.status.busy": "2025-10-08T14:04:10.507779Z",
     "iopub.status.idle": "2025-10-08T14:04:11.666278Z",
     "shell.execute_reply": "2025-10-08T14:04:11.664914Z"
    },
    "papermill": {
     "duration": 1.174517,
     "end_time": "2025-10-08T14:04:11.670675",
     "exception": false,
     "start_time": "2025-10-08T14:04:10.496158",
     "status": "completed"
    },
    "tags": []
   },
   "outputs": [
    {
     "data": {
      "text/html": [
       "<style>#sk-container-id-1 {color: black;background-color: white;}#sk-container-id-1 pre{padding: 0;}#sk-container-id-1 div.sk-toggleable {background-color: white;}#sk-container-id-1 label.sk-toggleable__label {cursor: pointer;display: block;width: 100%;margin-bottom: 0;padding: 0.3em;box-sizing: border-box;text-align: center;}#sk-container-id-1 label.sk-toggleable__label-arrow:before {content: \"▸\";float: left;margin-right: 0.25em;color: #696969;}#sk-container-id-1 label.sk-toggleable__label-arrow:hover:before {color: black;}#sk-container-id-1 div.sk-estimator:hover label.sk-toggleable__label-arrow:before {color: black;}#sk-container-id-1 div.sk-toggleable__content {max-height: 0;max-width: 0;overflow: hidden;text-align: left;background-color: #f0f8ff;}#sk-container-id-1 div.sk-toggleable__content pre {margin: 0.2em;color: black;border-radius: 0.25em;background-color: #f0f8ff;}#sk-container-id-1 input.sk-toggleable__control:checked~div.sk-toggleable__content {max-height: 200px;max-width: 100%;overflow: auto;}#sk-container-id-1 input.sk-toggleable__control:checked~label.sk-toggleable__label-arrow:before {content: \"▾\";}#sk-container-id-1 div.sk-estimator input.sk-toggleable__control:checked~label.sk-toggleable__label {background-color: #d4ebff;}#sk-container-id-1 div.sk-label input.sk-toggleable__control:checked~label.sk-toggleable__label {background-color: #d4ebff;}#sk-container-id-1 input.sk-hidden--visually {border: 0;clip: rect(1px 1px 1px 1px);clip: rect(1px, 1px, 1px, 1px);height: 1px;margin: -1px;overflow: hidden;padding: 0;position: absolute;width: 1px;}#sk-container-id-1 div.sk-estimator {font-family: monospace;background-color: #f0f8ff;border: 1px dotted black;border-radius: 0.25em;box-sizing: border-box;margin-bottom: 0.5em;}#sk-container-id-1 div.sk-estimator:hover {background-color: #d4ebff;}#sk-container-id-1 div.sk-parallel-item::after {content: \"\";width: 100%;border-bottom: 1px solid gray;flex-grow: 1;}#sk-container-id-1 div.sk-label:hover label.sk-toggleable__label {background-color: #d4ebff;}#sk-container-id-1 div.sk-serial::before {content: \"\";position: absolute;border-left: 1px solid gray;box-sizing: border-box;top: 0;bottom: 0;left: 50%;z-index: 0;}#sk-container-id-1 div.sk-serial {display: flex;flex-direction: column;align-items: center;background-color: white;padding-right: 0.2em;padding-left: 0.2em;position: relative;}#sk-container-id-1 div.sk-item {position: relative;z-index: 1;}#sk-container-id-1 div.sk-parallel {display: flex;align-items: stretch;justify-content: center;background-color: white;position: relative;}#sk-container-id-1 div.sk-item::before, #sk-container-id-1 div.sk-parallel-item::before {content: \"\";position: absolute;border-left: 1px solid gray;box-sizing: border-box;top: 0;bottom: 0;left: 50%;z-index: -1;}#sk-container-id-1 div.sk-parallel-item {display: flex;flex-direction: column;z-index: 1;position: relative;background-color: white;}#sk-container-id-1 div.sk-parallel-item:first-child::after {align-self: flex-end;width: 50%;}#sk-container-id-1 div.sk-parallel-item:last-child::after {align-self: flex-start;width: 50%;}#sk-container-id-1 div.sk-parallel-item:only-child::after {width: 0;}#sk-container-id-1 div.sk-dashed-wrapped {border: 1px dashed gray;margin: 0 0.4em 0.5em 0.4em;box-sizing: border-box;padding-bottom: 0.4em;background-color: white;}#sk-container-id-1 div.sk-label label {font-family: monospace;font-weight: bold;display: inline-block;line-height: 1.2em;}#sk-container-id-1 div.sk-label-container {text-align: center;}#sk-container-id-1 div.sk-container {/* jupyter's `normalize.less` sets `[hidden] { display: none; }` but bootstrap.min.css set `[hidden] { display: none !important; }` so we also need the `!important` here to be able to override the default hidden behavior on the sphinx rendered scikit-learn.org. See: https://github.com/scikit-learn/scikit-learn/issues/21755 */display: inline-block !important;position: relative;}#sk-container-id-1 div.sk-text-repr-fallback {display: none;}</style><div id=\"sk-container-id-1\" class=\"sk-top-container\"><div class=\"sk-text-repr-fallback\"><pre>LogisticRegression()</pre><b>In a Jupyter environment, please rerun this cell to show the HTML representation or trust the notebook. <br />On GitHub, the HTML representation is unable to render, please try loading this page with nbviewer.org.</b></div><div class=\"sk-container\" hidden><div class=\"sk-item\"><div class=\"sk-estimator sk-toggleable\"><input class=\"sk-toggleable__control sk-hidden--visually\" id=\"sk-estimator-id-1\" type=\"checkbox\" checked><label for=\"sk-estimator-id-1\" class=\"sk-toggleable__label sk-toggleable__label-arrow\">LogisticRegression</label><div class=\"sk-toggleable__content\"><pre>LogisticRegression()</pre></div></div></div></div></div>"
      ],
      "text/plain": [
       "LogisticRegression()"
      ]
     },
     "execution_count": 25,
     "metadata": {},
     "output_type": "execute_result"
    }
   ],
   "source": [
    "model = LogisticRegression()\n",
    "model.fit(X_train, y_train)"
   ]
  },
  {
   "cell_type": "code",
   "execution_count": 26,
   "id": "1d1f012c",
   "metadata": {
    "execution": {
     "iopub.execute_input": "2025-10-08T14:04:11.708970Z",
     "iopub.status.busy": "2025-10-08T14:04:11.708624Z",
     "iopub.status.idle": "2025-10-08T14:04:11.721281Z",
     "shell.execute_reply": "2025-10-08T14:04:11.720422Z"
    },
    "papermill": {
     "duration": 0.03431,
     "end_time": "2025-10-08T14:04:11.723543",
     "exception": false,
     "start_time": "2025-10-08T14:04:11.689233",
     "status": "completed"
    },
    "tags": []
   },
   "outputs": [],
   "source": [
    "y_pred = model.predict(X_test)"
   ]
  },
  {
   "cell_type": "markdown",
   "id": "00c446d8",
   "metadata": {
    "papermill": {
     "duration": 0.016435,
     "end_time": "2025-10-08T14:04:11.756842",
     "exception": false,
     "start_time": "2025-10-08T14:04:11.740407",
     "status": "completed"
    },
    "tags": []
   },
   "source": [
    "# **Metrics**"
   ]
  },
  {
   "cell_type": "code",
   "execution_count": 27,
   "id": "4a71593e",
   "metadata": {
    "execution": {
     "iopub.execute_input": "2025-10-08T14:04:11.782674Z",
     "iopub.status.busy": "2025-10-08T14:04:11.782240Z",
     "iopub.status.idle": "2025-10-08T14:04:11.823016Z",
     "shell.execute_reply": "2025-10-08T14:04:11.821649Z"
    },
    "papermill": {
     "duration": 0.054219,
     "end_time": "2025-10-08T14:04:11.824833",
     "exception": false,
     "start_time": "2025-10-08T14:04:11.770614",
     "status": "completed"
    },
    "tags": []
   },
   "outputs": [
    {
     "name": "stdout",
     "output_type": "stream",
     "text": [
      "Accuracy: 0.95375\n",
      "Precision: 0.7915726109857035\n",
      "Recall: 0.6188235294117647\n",
      "F1-score: 0.694618686034995\n"
     ]
    }
   ],
   "source": [
    "# Accuracy\n",
    "acc = accuracy_score(y_test, y_pred)\n",
    "\n",
    "# Precision\n",
    "prec = precision_score(y_test, y_pred)\n",
    "\n",
    "# Recall\n",
    "rec = recall_score(y_test, y_pred)\n",
    "\n",
    "# F1-score\n",
    "f1 = f1_score(y_test, y_pred)\n",
    "\n",
    "# Confusion matrix\n",
    "cm = confusion_matrix(y_test, y_pred)\n",
    "\n",
    "print(\"Accuracy:\", acc)\n",
    "print(\"Precision:\", prec)\n",
    "print(\"Recall:\", rec)\n",
    "print(\"F1-score:\", f1)"
   ]
  },
  {
   "cell_type": "code",
   "execution_count": 28,
   "id": "18d4961a",
   "metadata": {
    "execution": {
     "iopub.execute_input": "2025-10-08T14:04:11.847281Z",
     "iopub.status.busy": "2025-10-08T14:04:11.846977Z",
     "iopub.status.idle": "2025-10-08T14:04:12.062768Z",
     "shell.execute_reply": "2025-10-08T14:04:12.061464Z"
    },
    "papermill": {
     "duration": 0.229243,
     "end_time": "2025-10-08T14:04:12.064770",
     "exception": false,
     "start_time": "2025-10-08T14:04:11.835527",
     "status": "completed"
    },
    "tags": []
   },
   "outputs": [
    {
     "data": {
      "image/png": "[encoded data removed]",
      "text/plain": [
       "<Figure size 600x400 with 1 Axes>"
      ]
     },
     "metadata": {},
     "output_type": "display_data"
    }
   ],
   "source": [
    "# Plot using heatmap\n",
    "plt.figure(figsize=(6,4))\n",
    "sns.heatmap(cm, annot=True, fmt='d', cmap='Blues', cbar=False)\n",
    "\n",
    "# Add labels\n",
    "plt.xlabel('Predicted')\n",
    "plt.ylabel('Actual')\n",
    "plt.title('Confusion Matrix')\n",
    "plt.show()"
   ]
  },
  {
   "cell_type": "code",
   "execution_count": 29,
   "id": "924c6765",
   "metadata": {
    "execution": {
     "iopub.execute_input": "2025-10-08T14:04:12.088825Z",
     "iopub.status.busy": "2025-10-08T14:04:12.088460Z",
     "iopub.status.idle": "2025-10-08T14:04:12.133683Z",
     "shell.execute_reply": "2025-10-08T14:04:12.131417Z"
    },
    "papermill": {
     "duration": 0.058889,
     "end_time": "2025-10-08T14:04:12.135550",
     "exception": false,
     "start_time": "2025-10-08T14:04:12.076661",
     "status": "completed"
    },
    "tags": []
   },
   "outputs": [
    {
     "name": "stdout",
     "output_type": "stream",
     "text": [
      "              precision    recall  f1-score   support\n",
      "\n",
      "           0       0.97      0.98      0.97     18300\n",
      "           1       0.79      0.62      0.69      1700\n",
      "\n",
      "    accuracy                           0.95     20000\n",
      "   macro avg       0.88      0.80      0.83     20000\n",
      "weighted avg       0.95      0.95      0.95     20000\n",
      "\n"
     ]
    }
   ],
   "source": [
    "print(classification_report(y_test, y_pred))"
   ]
  },
  {
   "cell_type": "markdown",
   "id": "655ee316",
   "metadata": {
    "papermill": {
     "duration": 0.010744,
     "end_time": "2025-10-08T14:04:12.159840",
     "exception": false,
     "start_time": "2025-10-08T14:04:12.149096",
     "status": "completed"
    },
    "tags": []
   },
   "source": [
    "# **Exporting the model**"
   ]
  },
  {
   "cell_type": "code",
   "execution_count": 30,
   "id": "393aba89",
   "metadata": {
    "execution": {
     "iopub.execute_input": "2025-10-08T14:04:12.183206Z",
     "iopub.status.busy": "2025-10-08T14:04:12.182879Z",
     "iopub.status.idle": "2025-10-08T14:04:12.188528Z",
     "shell.execute_reply": "2025-10-08T14:04:12.187458Z"
    },
    "papermill": {
     "duration": 0.019452,
     "end_time": "2025-10-08T14:04:12.190271",
     "exception": false,
     "start_time": "2025-10-08T14:04:12.170819",
     "status": "completed"
    },
    "tags": []
   },
   "outputs": [],
   "source": [
    "with open('model.pkl', 'wb') as f:\n",
    "    pickle.dump(model, f)"
   ]
  },
  {
   "cell_type": "code",
   "execution_count": 31,
   "id": "dd5bca2f",
   "metadata": {
    "execution": {
     "iopub.execute_input": "2025-10-08T14:04:12.214505Z",
     "iopub.status.busy": "2025-10-08T14:04:12.214129Z",
     "iopub.status.idle": "2025-10-08T14:04:12.256650Z",
     "shell.execute_reply": "2025-10-08T14:04:12.255170Z"
    },
    "papermill": {
     "duration": 0.056419,
     "end_time": "2025-10-08T14:04:12.258642",
     "exception": false,
     "start_time": "2025-10-08T14:04:12.202223",
     "status": "completed"
    },
    "tags": []
   },
   "outputs": [
    {
     "name": "stdout",
     "output_type": "stream",
     "text": [
      "              precision    recall  f1-score   support\n",
      "\n",
      "           0       0.97      0.98      0.97     18300\n",
      "           1       0.79      0.62      0.69      1700\n",
      "\n",
      "    accuracy                           0.95     20000\n",
      "   macro avg       0.88      0.80      0.83     20000\n",
      "weighted avg       0.95      0.95      0.95     20000\n",
      "\n"
     ]
    }
   ],
   "source": [
    "with open('model.pkl', 'rb') as f:\n",
    "    loaded_model = pickle.load(f)\n",
    "\n",
    "y_pred_loaded = loaded_model.predict(X_test)\n",
    "print(classification_report(y_test, y_pred_loaded))"
   ]
  }
 ],
 "metadata": {
  "kaggle": {
   "accelerator": "none",
   "dataSources": [
    {
     "datasetId": 3102947,
     "sourceId": 5344155,
     "sourceType": "datasetVersion"
    }
   ],
   "dockerImageVersionId": 31153,
   "isGpuEnabled": false,
   "isInternetEnabled": true,
   "language": "python",
   "sourceType": "notebook"
  },
  "kernelspec": {
   "display_name": "Python 3",
   "language": "python",
   "name": "python3"
  },
  "language_info": {
   "codemirror_mode": {
    "name": "ipython",
    "version": 3
   },
   "file_extension": ".py",
   "mimetype": "text/x-python",
   "name": "python",
   "nbconvert_exporter": "python",
   "pygments_lexer": "ipython3",
   "version": "3.11.13"
  },
  "papermill": {
   "default_parameters": {},
   "duration": 17.903133,
   "end_time": "2025-10-08T14:04:12.990983",
   "environment_variables": {},
   "exception": null,
   "input_path": "__notebook__.ipynb",
   "output_path": "__notebook__.ipynb",
   "parameters": {},
   "start_time": "2025-10-08T14:03:55.087850",
   "version": "2.6.0"
  }
 },
 "nbformat": 4,
 "nbformat_minor": 5
}
